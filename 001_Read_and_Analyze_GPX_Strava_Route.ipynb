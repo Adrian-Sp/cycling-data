{
 "cells": [
  {
   "cell_type": "markdown",
   "id": "2ce70558-8243-4ff4-b548-6112b3f05537",
   "metadata": {},
   "source": [
    "# Data Science for Cycling #1 - How To Read GPX Strava Routes With Python\n",
    "- Notebook 1/6\n",
    "- Make sure to have `gpxpy` installed:\n",
    "<br>\n",
    "\n",
    "```\n",
    "pip install gpxpy\n",
    "```\n",
    "\n",
    "- Let's import the libraries and tweak Matplotlib's default stylings:"
   ]
  },
  {
   "cell_type": "code",
   "execution_count": null,
   "id": "departmental-rough",
   "metadata": {},
   "outputs": [],
   "source": [
    "%pip install gpxpy"
   ]
  },
  {
   "cell_type": "code",
   "execution_count": null,
   "id": "fd92ae56-c120-4081-96a8-958327826c26",
   "metadata": {},
   "outputs": [],
   "source": [
    "import gpxpy\n",
    "import gpxpy.gpx\n",
    "\n",
    "import pandas as pd\n",
    "import matplotlib.pyplot as plt\n",
    "plt.rcParams['axes.spines.top'] = False\n",
    "plt.rcParams['axes.spines.right'] = False"
   ]
  },
  {
   "cell_type": "markdown",
   "id": "7ab807b5-13a5-40d9-a7b8-f62f6ef385c5",
   "metadata": {},
   "source": [
    "- You can read GPX files with Python's context manager syntax:"
   ]
  },
  {
   "cell_type": "code",
   "execution_count": null,
   "id": "parallel-efficiency",
   "metadata": {},
   "outputs": [],
   "source": [
    "!pwd"
   ]
  },
  {
   "cell_type": "code",
   "execution_count": null,
   "id": "a5c4e1aa-8589-4ac4-ba50-6ddb473b934d",
   "metadata": {},
   "outputs": [],
   "source": [
    "with open('../4090825616.gpx', 'r') as gpx_file:\n",
    "    gpx = gpxpy.parse(gpx_file)"
   ]
  },
  {
   "cell_type": "code",
   "execution_count": null,
   "id": "adult-sullivan",
   "metadata": {},
   "outputs": [],
   "source": [
    "with open('../2875303142.gpx', 'r') as gpx_file:\n",
    "    gpx = gpxpy.parse(gpx_file)"
   ]
  },
  {
   "cell_type": "code",
   "execution_count": null,
   "id": "incredible-payday",
   "metadata": {},
   "outputs": [],
   "source": [
    "with open('../3752723542.gpx', 'r') as gpx_file:\n",
    "    gpx = gpxpy.parse(gpx_file)"
   ]
  },
  {
   "cell_type": "markdown",
   "id": "483d3c00-01c2-4e47-bb14-2ce6b5c89df0",
   "metadata": {},
   "source": [
    "- It's a specific GPX object:"
   ]
  },
  {
   "cell_type": "code",
   "execution_count": null,
   "id": "d521e73c-5f9f-48a4-a117-3b46da950e2e",
   "metadata": {},
   "outputs": [],
   "source": [
    "gpx"
   ]
  },
  {
   "cell_type": "markdown",
   "id": "f82304af-1de4-43f5-b713-3714eaeb2073",
   "metadata": {},
   "source": [
    "- Get the number of data points (number of times geolocation was taken):"
   ]
  },
  {
   "cell_type": "code",
   "execution_count": null,
   "id": "6a7272df-f0df-4025-b65c-dec0bdff4b1d",
   "metadata": {},
   "outputs": [],
   "source": [
    "gpx.get_track_points_no()"
   ]
  },
  {
   "cell_type": "markdown",
   "id": "d16ac89b-3049-4aa0-b4ce-d07cfd61c19a",
   "metadata": {},
   "source": [
    "- Get the minimum and maximum altitudes:"
   ]
  },
  {
   "cell_type": "code",
   "execution_count": null,
   "id": "877183c5-51a8-474b-b3ea-f7fa18808694",
   "metadata": {},
   "outputs": [],
   "source": [
    "gpx.get_elevation_extremes()"
   ]
  },
  {
   "cell_type": "markdown",
   "id": "d1a08fcd-2315-408b-89fc-ced315f44126",
   "metadata": {},
   "source": [
    "- Get the number of meters of uphil and downhil ride\n",
    "- It's a roundtrip, so the numbers should be almost identical"
   ]
  },
  {
   "cell_type": "code",
   "execution_count": null,
   "id": "1f774255-cf8c-4594-8a5d-6f2dde900c84",
   "metadata": {},
   "outputs": [],
   "source": [
    "gpx.get_uphill_downhill()"
   ]
  },
  {
   "cell_type": "markdown",
   "id": "e4e5027f-6f33-41af-9b88-1ad038e27082",
   "metadata": {},
   "source": [
    "- You can dump the entire GPX file to XML\n",
    "- Here are the first 1000 characters:"
   ]
  },
  {
   "cell_type": "code",
   "execution_count": null,
   "id": "a0858ff9-8c98-4c5b-bc53-94da96050d44",
   "metadata": {},
   "outputs": [],
   "source": [
    "gpx.to_xml()[:10000]"
   ]
  },
  {
   "cell_type": "markdown",
   "id": "transsexual-spanish",
   "metadata": {},
   "source": [
    "<br>\n",
    "\n",
    "## Basic analysis\n",
    "- There's only one track available in the file\n",
    "- Access it with Python's list indexing syntax:"
   ]
  },
  {
   "cell_type": "code",
   "execution_count": null,
   "id": "f17aa437-8c29-4be8-9b73-09aacb2bbcf5",
   "metadata": {},
   "outputs": [],
   "source": [
    "len(gpx.tracks)#[0]"
   ]
  },
  {
   "cell_type": "code",
   "execution_count": null,
   "id": "prospective-penguin",
   "metadata": {},
   "outputs": [],
   "source": [
    "gpx.tracks[0]"
   ]
  },
  {
   "cell_type": "markdown",
   "id": "1c017826-2595-490f-89fc-fd503d84250c",
   "metadata": {},
   "source": [
    "- The track has only one segment - access it the same way:"
   ]
  },
  {
   "cell_type": "code",
   "execution_count": null,
   "id": "floppy-cycling",
   "metadata": {},
   "outputs": [],
   "source": [
    "len(gpx.tracks[0].segments)"
   ]
  },
  {
   "cell_type": "code",
   "execution_count": null,
   "id": "7c7b5f59-e86f-493a-b67b-c89ab4620904",
   "metadata": {},
   "outputs": [],
   "source": [
    "gpx.tracks[0].segments[0]"
   ]
  },
  {
   "cell_type": "code",
   "execution_count": null,
   "id": "guided-aerospace",
   "metadata": {},
   "outputs": [],
   "source": [
    "len(gpx.tracks[0].segments[0].points)"
   ]
  },
  {
   "cell_type": "markdown",
   "id": "fc95d72d-6a96-48a0-9c62-670ee87aa8f3",
   "metadata": {},
   "source": [
    "- The segment has 31202 data points\n",
    "- Here are the first 10:"
   ]
  },
  {
   "cell_type": "code",
   "execution_count": null,
   "id": "c7a5c1f9-735a-4d50-acd3-b2f6146e0c87",
   "metadata": {},
   "outputs": [],
   "source": [
    "gpx.tracks[0].segments[0].points[:10]"
   ]
  },
  {
   "cell_type": "markdown",
   "id": "9e361b78-d193-4677-9faa-98af2166d24c",
   "metadata": {},
   "source": [
    "- Let's now extract all dat apoints\n",
    "- Store latitude, longitude, and elevation as a list of dicts"
   ]
  },
  {
   "cell_type": "code",
   "execution_count": null,
   "id": "a0ead523-faaf-4587-be3a-a9982066bef4",
   "metadata": {},
   "outputs": [],
   "source": [
    "route_info = []\n",
    "\n",
    "for track in gpx.tracks:\n",
    "    for segment in track.segments:\n",
    "        for point in segment.points:\n",
    "            route_info.append({\n",
    "                'latitude': point.latitude,\n",
    "                'longitude': point.longitude,\n",
    "                'elevation': point.elevation,\n",
    "                'time': point.time\n",
    "            })"
   ]
  },
  {
   "cell_type": "code",
   "execution_count": null,
   "id": "71d033ad-2998-415b-ab5a-fa42b0dfc959",
   "metadata": {},
   "outputs": [],
   "source": [
    "route_info[:3]"
   ]
  },
  {
   "cell_type": "markdown",
   "id": "be715000-2a30-4373-b8bc-51c15abb3e98",
   "metadata": {},
   "source": [
    "- Convert it to Pandas DataFrame for faster and easier analysis"
   ]
  },
  {
   "cell_type": "code",
   "execution_count": null,
   "id": "939968ff-e834-4603-b39e-6ebab08958aa",
   "metadata": {},
   "outputs": [],
   "source": [
    "route_df = pd.DataFrame(route_info)\n",
    "route_df.head()"
   ]
  },
  {
   "cell_type": "code",
   "execution_count": null,
   "id": "elder-bankruptcy",
   "metadata": {},
   "outputs": [],
   "source": [
    "route_df.dtypes"
   ]
  },
  {
   "cell_type": "markdown",
   "id": "d325daf4-9057-4705-83ee-096467891134",
   "metadata": {},
   "source": [
    "- Save it to CSV for later use:"
   ]
  },
  {
   "cell_type": "code",
   "execution_count": null,
   "id": "6121d955-82a8-41ac-b51c-b7a5c599b6ec",
   "metadata": {},
   "outputs": [],
   "source": [
    "route_df.to_csv('../200km_route_df.csv', index=False)"
   ]
  },
  {
   "cell_type": "markdown",
   "id": "fe96a890-5947-48c5-894a-eb5889bf22b5",
   "metadata": {},
   "source": [
    "<br>\n",
    "\n",
    "## Basic visualization\n",
    "- You can use matplotlib to visualize all data points\n",
    "- It won't show the map, but you should still see how the route looks like:"
   ]
  },
  {
   "cell_type": "code",
   "execution_count": null,
   "id": "56d0931e-a147-47cc-9772-036b01bee8db",
   "metadata": {},
   "outputs": [],
   "source": [
    "plt.figure(figsize=(14, 8))\n",
    "plt.scatter(route_df['longitude'], route_df['latitude'], color='#101010')\n",
    "plt.title('Route latitude and longitude points', size=20);"
   ]
  },
  {
   "cell_type": "code",
   "execution_count": null,
   "id": "eligible-registration",
   "metadata": {},
   "outputs": [],
   "source": []
  }
 ],
 "metadata": {
  "kernelspec": {
   "display_name": "Python 3",
   "language": "python",
   "name": "python3"
  },
  "language_info": {
   "codemirror_mode": {
    "name": "ipython",
    "version": 3
   },
   "file_extension": ".py",
   "mimetype": "text/x-python",
   "name": "python",
   "nbconvert_exporter": "python",
   "pygments_lexer": "ipython3",
   "version": "3.7.3"
  }
 },
 "nbformat": 4,
 "nbformat_minor": 5
}
